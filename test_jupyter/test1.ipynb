{
 "cells": [
  {
   "cell_type": "markdown",
   "id": "9bbb8f1c",
   "metadata": {},
   "source": [
    "# Get mean\n",
    "\n",
    "Write a function that calculates the mean for a vector"
   ]
  },
  {
   "cell_type": "code",
   "execution_count": null,
   "id": "ab61c60b",
   "metadata": {},
   "outputs": [],
   "source": [
    "fn get_mean(v: &Vec<i64>) -> f64 {\n",
    "    let sum: i64 = v.iter().sum();\n",
    "    let mean: f64 = (sum as f64) / (v.len() as f64);\n",
    "    mean\n",
    "}"
   ]
  },
  {
   "cell_type": "code",
   "execution_count": null,
   "id": "f431c9d4",
   "metadata": {},
   "outputs": [],
   "source": [
    "let x: Vec<i64> = vec![1, 2, 3, 4, 5];\n",
    "let y: Vec<i64> = (1..11).collect();"
   ]
  },
  {
   "cell_type": "code",
   "execution_count": null,
   "id": "d862c962",
   "metadata": {},
   "outputs": [],
   "source": [
    "get_mean(&x)"
   ]
  },
  {
   "cell_type": "code",
   "execution_count": null,
   "id": "a8d9bba4",
   "metadata": {},
   "outputs": [],
   "source": [
    "get_mean(&y)"
   ]
  },
  {
   "cell_type": "markdown",
   "id": "dab65afa",
   "metadata": {},
   "source": [
    "# Get standard deviation\n",
    "\n",
    "Write a function that calculates the standard deviation (sample) for a vector."
   ]
  },
  {
   "cell_type": "code",
   "execution_count": null,
   "id": "e0eb8221",
   "metadata": {},
   "outputs": [],
   "source": [
    "fn get_var(v: &Vec<i64>) -> f64 {\n",
    "    let mean: f64 = get_mean(v);\n",
    "    let diffs_sq: Vec<f64> = v.into_iter().map(|x| f64::powf(*x as f64 - mean, 2.0)).collect();\n",
    "    let sum_of_squares: f64 = diffs_sq.into_iter().sum();\n",
    "    sum_of_squares / (v.len() - 1) as f64\n",
    "}"
   ]
  },
  {
   "cell_type": "code",
   "execution_count": null,
   "id": "286c1b59",
   "metadata": {},
   "outputs": [],
   "source": [
    "fn get_std(v: &Vec<i64>) -> f64 {\n",
    "    get_var(v).sqrt()\n",
    "}"
   ]
  },
  {
   "cell_type": "code",
   "execution_count": null,
   "id": "1e5f8f23",
   "metadata": {},
   "outputs": [],
   "source": [
    "get_std(&x)"
   ]
  },
  {
   "cell_type": "code",
   "execution_count": null,
   "id": "21f10a6c",
   "metadata": {},
   "outputs": [],
   "source": [
    "get_std(&y)"
   ]
  }
 ],
 "metadata": {
  "kernelspec": {
   "argv": [
    "~/.cargo/bin/evcxr_jupyter",
    "--control_file",
    "{connection_file}"
   ],
   "display_name": "Rust",
   "env": null,
   "interrupt_mode": "message",
   "language": "rust",
   "name": "rust"
  },
  "language_info": {
   "codemirror_mode": "rust",
   "file_extension": ".rs",
   "mimetype": "text/rust",
   "name": "Rust",
   "pygment_lexer": "rust",
   "version": ""
  },
  "name": "test1.ipynb"
 },
 "nbformat": 4,
 "nbformat_minor": 5
}
