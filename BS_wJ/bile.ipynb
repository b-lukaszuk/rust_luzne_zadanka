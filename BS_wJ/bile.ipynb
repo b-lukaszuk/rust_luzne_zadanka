{
 "cells": [
  {
   "cell_type": "markdown",
   "id": "55f0169c",
   "metadata": {},
   "source": [
    "# Task description\n",
    "\n",
    "write solution for bile problem\n",
    "\n",
    "[details](https://b-lukaszuk.github.io/BS_wJ_eng/bile.html)"
   ]
  },
  {
   "cell_type": "markdown",
   "id": "4d3efe06",
   "metadata": {},
   "source": [
    "**Crude solution**, no assumption checking, no error handling, etc."
   ]
  },
  {
   "cell_type": "markdown",
   "id": "40e9edf0",
   "metadata": {},
   "source": [
    "## Functions"
   ]
  },
  {
   "cell_type": "code",
   "execution_count": 2,
   "id": "07bcf887-8b89-452b-88f0-e32dbe76d417",
   "metadata": {},
   "outputs": [],
   "source": [
    "struct Sphere {\n",
    "    radius: f64,\n",
    "}"
   ]
  },
  {
   "cell_type": "code",
   "execution_count": 3,
   "id": "82daa5e2",
   "metadata": {},
   "outputs": [],
   "source": [
    "use std::f64::consts::PI;\n",
    "\n",
    "fn get_volume(s: &Sphere) -> f64 {\n",
    "    4.0 / 3.0 * PI * (s.radius.powf(3.0) as f64)\n",
    "}\n",
    "\n",
    "fn get_surface_area(s: &Sphere) -> f64 {\n",
    "    4.0 * PI * (s.radius.powf(2.0) as f64)\n",
    "}\n",
    "\n",
    "fn get_sphere(volume: f64) -> Sphere {\n",
    "    Sphere {\n",
    "        radius: (volume / (4.0 / 3.0) / PI).cbrt(),\n",
    "    }\n",
    "}"
   ]
  },
  {
   "cell_type": "markdown",
   "id": "f1199774",
   "metadata": {},
   "source": [
    "## Solution"
   ]
  },
  {
   "cell_type": "markdown",
   "id": "48f8b8bc-2abb-421d-ab59-aeff6f185dc2",
   "metadata": {},
   "source": [
    "initial (reference) sphere"
   ]
  },
  {
   "cell_type": "code",
   "execution_count": 4,
   "id": "b7cff513-516b-45f8-9874-e3fb062b1591",
   "metadata": {},
   "outputs": [],
   "source": [
    "let initial_sphere: Sphere = Sphere { radius: 10.0 };\n",
    "let initial_volume: f64 = get_volume(&initial_sphere);"
   ]
  },
  {
   "cell_type": "markdown",
   "id": "0985814b-c81f-411c-b2e1-609536071546",
   "metadata": {},
   "source": [
    "Spheres of different size"
   ]
  },
  {
   "cell_type": "code",
   "execution_count": 5,
   "id": "f78f5157-42a9-446b-90c0-7bae4ce3b5fa",
   "metadata": {},
   "outputs": [
    {
     "data": {
      "text/plain": [
       "()"
      ]
     },
     "execution_count": 5,
     "metadata": {},
     "output_type": "execute_result"
    }
   ],
   "source": [
    "let mut spheres: Vec<Sphere> = vec![initial_sphere];\n",
    "let mut num_spheres: Vec<u32> = vec![1];\n",
    "let mut sum_of_volumes: Vec<f64> = vec![get_volume(&spheres[0])];\n",
    "let mut sum_of_areas: Vec<f64> = vec![get_surface_area(&spheres[0])];\n",
    "\n",
    "for n_drops in (4..=12).step_by(4) {\n",
    "    num_spheres.push(n_drops);\n",
    "    spheres.push(get_sphere(initial_volume / n_drops as f64));\n",
    "    sum_of_volumes.push(get_volume(&spheres.last().unwrap()) * n_drops as f64);\n",
    "    sum_of_areas.push(get_surface_area(&spheres.last().unwrap()) * n_drops as f64);\n",
    "}"
   ]
  },
  {
   "cell_type": "code",
   "execution_count": 6,
   "id": "04ebf9b5-213e-44c4-9de5-63d9a422089e",
   "metadata": {},
   "outputs": [
    {
     "name": "stdout",
     "output_type": "stream",
     "text": [
      "1 droplet(s):\n",
      "\tr (1 droplet) = 10.00 [um], sumArea = 1256.64 [um^2], sumVolume = 4188.79 [um^3]\n",
      "4 droplet(s):\n",
      "\tr (1 droplet) = 6.30 [um], sumArea = 1994.79 [um^2], sumVolume = 4188.79 [um^3]\n",
      "8 droplet(s):\n",
      "\tr (1 droplet) = 5.00 [um], sumArea = 2513.27 [um^2], sumVolume = 4188.79 [um^3]\n",
      "12 droplet(s):\n",
      "\tr (1 droplet) = 4.37 [um], sumArea = 2876.98 [um^2], sumVolume = 4188.79 [um^3]\n"
     ]
    },
    {
     "data": {
      "text/plain": [
       "()"
      ]
     },
     "execution_count": 6,
     "metadata": {},
     "output_type": "execute_result"
    }
   ],
   "source": [
    "for i in 0..spheres.len() {\n",
    "    println!(\n",
    "        \"{} droplet(s):\\n\\tr (1 droplet) = {:.2} [um], sumArea = {:.2} [um^2], sumVolume = {:.2} [um^3]\",\n",
    "        num_spheres[i], spheres[i].radius, sum_of_areas[i], sum_of_volumes[i]\n",
    "    );\n",
    "}"
   ]
  }
 ],
 "metadata": {
  "kernelspec": {
   "display_name": "Rust",
   "language": "rust",
   "name": "rust"
  },
  "language_info": {
   "codemirror_mode": "rust",
   "file_extension": ".rs",
   "mimetype": "text/rust",
   "name": "Rust",
   "pygment_lexer": "rust",
   "version": ""
  }
 },
 "nbformat": 4,
 "nbformat_minor": 5
}
