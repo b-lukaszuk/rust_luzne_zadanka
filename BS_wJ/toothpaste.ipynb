{
 "cells": [
  {
   "cell_type": "markdown",
   "id": "55f0169c",
   "metadata": {},
   "source": [
    "# Task description\n",
    "\n",
    "write solution for toothpaste problem\n",
    "\n",
    "[details](https://b-lukaszuk.github.io/BS_wJ_eng/toothpaste.html)"
   ]
  },
  {
   "cell_type": "markdown",
   "id": "4d3efe06",
   "metadata": {},
   "source": [
    "**Crude solution**, no assumption checking, no error handling, etc."
   ]
  },
  {
   "cell_type": "markdown",
   "id": "40e9edf0",
   "metadata": {},
   "source": [
    "## Functions"
   ]
  },
  {
   "cell_type": "code",
   "execution_count": 2,
   "id": "07bcf887-8b89-452b-88f0-e32dbe76d417",
   "metadata": {},
   "outputs": [],
   "source": [
    "#[derive(Debug)]\n",
    "struct Cylinder {\n",
    "    radius: u32,\n",
    "    height: u32,\n",
    "}"
   ]
  },
  {
   "cell_type": "code",
   "execution_count": 3,
   "id": "82daa5e2",
   "metadata": {},
   "outputs": [],
   "source": [
    "use std::f64::consts::PI;\n",
    "\n",
    "fn get_volume(c: &Cylinder) -> f64 {\n",
    "    (c.height as f64) * PI * (c.radius.pow(2) as f64)\n",
    "}"
   ]
  },
  {
   "cell_type": "code",
   "execution_count": 4,
   "id": "3f3b89f3",
   "metadata": {},
   "outputs": [],
   "source": [
    "fn get_ratios(cylinders: &Vec<Cylinder>,\n",
    "              radius_change: i32, height_change: i32) -> Vec<f64> {\n",
    "    let mut ratios: Vec<f64> = vec![];\n",
    "    for cyl1 in cylinders {\n",
    "        let cyl2 = Cylinder {\n",
    "            radius: ((cyl1.radius as i32) + radius_change) as u32,\n",
    "            height: ((cyl1.height as i32) + height_change) as u32,\n",
    "        };\n",
    "        ratios.push(get_volume(&cyl2) / get_volume(&cyl1));\n",
    "    }\n",
    "    ratios\n",
    "}"
   ]
  },
  {
   "cell_type": "markdown",
   "id": "f1199774",
   "metadata": {},
   "source": [
    "## Solution"
   ]
  },
  {
   "cell_type": "markdown",
   "id": "48f8b8bc-2abb-421d-ab59-aeff6f185dc2",
   "metadata": {},
   "source": [
    "initial (reference) cylinders"
   ]
  },
  {
   "cell_type": "code",
   "execution_count": 5,
   "id": "b7cff513-516b-45f8-9874-e3fb062b1591",
   "metadata": {},
   "outputs": [
    {
     "data": {
      "text/plain": [
       "()"
      ]
     },
     "execution_count": 5,
     "metadata": {},
     "output_type": "execute_result"
    }
   ],
   "source": [
    "let mut cs: Vec<Cylinder> = vec![];\n",
    "for r in 1..=5 {\n",
    "    cs.push(Cylinder {\n",
    "        radius: r,\n",
    "        height: 5,\n",
    "    })\n",
    "}"
   ]
  },
  {
   "cell_type": "markdown",
   "id": "77a3aa3c-0e76-433c-b72c-5d824a19cb13",
   "metadata": {},
   "source": [
    "## Scenario 1\n",
    "radius + 1 <br>\n",
    "height unchanged <br>"
   ]
  },
  {
   "cell_type": "code",
   "execution_count": 6,
   "id": "33fb98df",
   "metadata": {},
   "outputs": [
    {
     "data": {
      "text/plain": [
       "[4.0, 2.25, 1.7777777777777777, 1.5625, 1.4400000000000002]"
      ]
     },
     "execution_count": 6,
     "metadata": {},
     "output_type": "execute_result"
    }
   ],
   "source": [
    "get_ratios(&cs, 1, 0)"
   ]
  },
  {
   "cell_type": "markdown",
   "id": "f6801317",
   "metadata": {},
   "source": [
    "## Scenario 2\n",
    "radius +1 <br>\n",
    "height -1 <br>"
   ]
  },
  {
   "cell_type": "code",
   "execution_count": 7,
   "id": "6e978c38-b339-47f2-b2b5-e3e008f4ba14",
   "metadata": {},
   "outputs": [
    {
     "data": {
      "text/plain": [
       "[3.2, 1.8, 1.4222222222222223, 1.25, 1.1520000000000001]"
      ]
     },
     "execution_count": 7,
     "metadata": {},
     "output_type": "execute_result"
    }
   ],
   "source": [
    "get_ratios(&cs, 1, -1)"
   ]
  },
  {
   "cell_type": "markdown",
   "id": "b4462779-b4ad-48ab-b9c0-bc06af3fd3fa",
   "metadata": {},
   "source": [
    "## Scenario 3\n",
    "radius +1 <br>\n",
    "height -2 <br>"
   ]
  },
  {
   "cell_type": "code",
   "execution_count": 8,
   "id": "de610d33-66a6-496b-85f3-353a89fae4ca",
   "metadata": {},
   "outputs": [
    {
     "data": {
      "text/plain": [
       "[2.4, 1.3499999999999999, 1.0666666666666667, 0.9375, 0.864]"
      ]
     },
     "execution_count": 8,
     "metadata": {},
     "output_type": "execute_result"
    }
   ],
   "source": [
    "get_ratios(&cs, 1, -2)"
   ]
  }
 ],
 "metadata": {
  "kernelspec": {
   "display_name": "Rust",
   "language": "rust",
   "name": "rust"
  },
  "language_info": {
   "codemirror_mode": "rust",
   "file_extension": ".rs",
   "mimetype": "text/rust",
   "name": "Rust",
   "pygment_lexer": "rust",
   "version": ""
  }
 },
 "nbformat": 4,
 "nbformat_minor": 5
}
