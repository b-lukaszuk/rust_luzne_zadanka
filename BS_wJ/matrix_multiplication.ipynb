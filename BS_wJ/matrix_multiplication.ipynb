{
 "cells": [
  {
   "cell_type": "markdown",
   "id": "55f0169c",
   "metadata": {},
   "source": [
    "# Task description\n",
    "\n",
    "write some functions for basic matrix multiplication\n",
    "\n",
    "[details](https://b-lukaszuk.github.io/BS_wJ_eng/mat_multip.html)"
   ]
  },
  {
   "cell_type": "markdown",
   "id": "4d3efe06",
   "metadata": {},
   "source": [
    "**Crude solution**, no assumption checking, no error handling, etc."
   ]
  },
  {
   "cell_type": "markdown",
   "id": "40e9edf0",
   "metadata": {},
   "source": [
    "## Functions"
   ]
  },
  {
   "cell_type": "code",
   "execution_count": null,
   "id": "82daa5e2",
   "metadata": {},
   "outputs": [],
   "source": [
    "fn get_n_rows(matrix: &Vec<Vec<i32>>) -> usize {\n",
    "    matrix.len()\n",
    "}\n",
    "\n",
    "fn get_n_cols(matrix: &Vec<Vec<i32>>) -> usize {\n",
    "    matrix[0].len()\n",
    "}"
   ]
  },
  {
   "cell_type": "code",
   "execution_count": null,
   "id": "3f3b89f3",
   "metadata": {},
   "outputs": [],
   "source": [
    "fn get_col(matrix: &Vec<Vec<i32>>, col_ind: usize) -> Vec<i32> {\n",
    "    let n_rows: usize = get_n_rows(matrix);\n",
    "    let mut col: Vec<i32> = vec![];\n",
    "    for i in 0..n_rows {\n",
    "        col.push(matrix[i][col_ind]);\n",
    "    }\n",
    "    col\n",
    "}"
   ]
  },
  {
   "cell_type": "code",
   "execution_count": null,
   "id": "5ec6db4f",
   "metadata": {},
   "outputs": [],
   "source": [
    "fn get_dot_prod(row: &Vec<i32>, col: &Vec<i32>) -> Vec<i32> {\n",
    "    let mut result: Vec<i32> = vec![];\n",
    "    for i in 0..row.len() {\n",
    "        result.push(row[i] * col[i])\n",
    "    }\n",
    "    result\n",
    "}"
   ]
  },
  {
   "cell_type": "code",
   "execution_count": null,
   "id": "ec269fbe",
   "metadata": {},
   "outputs": [],
   "source": [
    "fn mult(matrix1: &Vec<Vec<i32>>, matrix2: &Vec<Vec<i32>>) -> Vec<Vec<i32>> {\n",
    "    let mut result: Vec<Vec<i32>> = vec![];\n",
    "    for r in 0..get_n_rows(matrix1) {\n",
    "        result.push(vec![]);\n",
    "        for c in 0..get_n_cols(matrix2) {\n",
    "            result[r].push(get_dot_prod(&matrix1[r], &get_col(matrix2, c)).iter().sum());\n",
    "        }\n",
    "    }\n",
    "    result\n",
    "}"
   ]
  },
  {
   "cell_type": "code",
   "execution_count": null,
   "id": "5b1af373",
   "metadata": {},
   "outputs": [],
   "source": [
    "fn my_print(matrix: &Vec<Vec<i32>>) {\n",
    "    for r in 0..matrix.len() {\n",
    "        for c in 0..get_n_cols(matrix) {\n",
    "            print!(\"{} \", matrix[r][c]);\n",
    "        }\n",
    "        println!(\"\");\n",
    "    }\n",
    "}"
   ]
  },
  {
   "cell_type": "markdown",
   "id": "f1199774",
   "metadata": {},
   "source": [
    "## Simple tests"
   ]
  },
  {
   "cell_type": "markdown",
   "id": "5ef90936",
   "metadata": {},
   "source": [
    "### Test 1"
   ]
  },
  {
   "cell_type": "markdown",
   "id": "7b3bb453",
   "metadata": {},
   "source": [
    "$$\n",
    "A = \\begin{pmatrix}\n",
    "  1 & 2 & 3 \\\\\n",
    "  4 & 5 & 6\n",
    "\\end{pmatrix}\n",
    "$$\n",
    "\n",
    "$$\n",
    "B = \\begin{pmatrix}\n",
    "  7 & 8 \\\\\n",
    "  9 & 10 \\\\\n",
    "  11 & 12\n",
    "\\end{pmatrix}\n",
    "$$"
   ]
  },
  {
   "cell_type": "code",
   "execution_count": null,
   "id": "33fb98df",
   "metadata": {},
   "outputs": [],
   "source": [
    "let a: Vec<Vec<i32>> = vec![vec![1, 2, 3], vec![4, 5, 6]];\n",
    "let b: Vec<Vec<i32>> = vec![vec![7, 8], vec![9, 10], vec![11, 12]];"
   ]
  },
  {
   "cell_type": "code",
   "execution_count": null,
   "id": "8d8016d8",
   "metadata": {},
   "outputs": [],
   "source": [
    "my_print(&a)"
   ]
  },
  {
   "cell_type": "code",
   "execution_count": null,
   "id": "34663da2",
   "metadata": {},
   "outputs": [],
   "source": [
    "my_print(&b)"
   ]
  },
  {
   "cell_type": "markdown",
   "id": "e4968d12",
   "metadata": {},
   "source": [
    "$$\n",
    "A * B =\n",
    "\\begin{pmatrix}\n",
    "  58 & 64 \\\\\n",
    "  139 & 154\n",
    "\\end{pmatrix}\n",
    "$$"
   ]
  },
  {
   "cell_type": "code",
   "execution_count": null,
   "id": "25eebcb5",
   "metadata": {},
   "outputs": [],
   "source": [
    "my_print(&mult(&a, &b));"
   ]
  },
  {
   "cell_type": "markdown",
   "id": "dbe4b4dd",
   "metadata": {},
   "source": [
    "### Test 2"
   ]
  },
  {
   "cell_type": "markdown",
   "id": "0ee66b34",
   "metadata": {},
   "source": [
    "$$\n",
    "C = \\begin{pmatrix}\n",
    "  -1 & 3 & 5 \\\\\n",
    "  5 & 5 & 2\n",
    "\\end{pmatrix}\n",
    "$$\n",
    "\n",
    "$$\n",
    "D = \\begin{pmatrix}\n",
    "  3 & 4 \\\\\n",
    "  3 & -2 \\\\\n",
    "  4 & -2\n",
    "\\end{pmatrix}\n",
    "$$"
   ]
  },
  {
   "cell_type": "code",
   "execution_count": null,
   "id": "afa2e24b",
   "metadata": {},
   "outputs": [],
   "source": [
    "let c: Vec<Vec<i32>> = vec![vec![-1, 3, 5], vec![5, 5, 2]];\n",
    "let d: Vec<Vec<i32>> = vec![vec![3, 4], vec![3, -2], vec![4, -2]];"
   ]
  },
  {
   "cell_type": "code",
   "execution_count": null,
   "id": "93670a3e",
   "metadata": {},
   "outputs": [],
   "source": [
    "my_print(&c);"
   ]
  },
  {
   "cell_type": "code",
   "execution_count": null,
   "id": "f301a7ea",
   "metadata": {},
   "outputs": [],
   "source": [
    "my_print(&d);"
   ]
  },
  {
   "cell_type": "markdown",
   "id": "e64fbdc6",
   "metadata": {},
   "source": [
    "$$\n",
    "C * D =\n",
    "\\begin{pmatrix}\n",
    "  26 & -20 \\\\\n",
    "  38 & 6\n",
    "\\end{pmatrix}\n",
    "$$"
   ]
  },
  {
   "cell_type": "code",
   "execution_count": null,
   "id": "fac45f6e",
   "metadata": {},
   "outputs": [],
   "source": [
    "my_print(&mult(&c, &d));"
   ]
  }
 ],
 "metadata": {
  "kernelspec": {
   "display_name": "Rust",
   "language": "rust",
   "name": "rust"
  },
  "language_info": {
   "codemirror_mode": "rust",
   "file_extension": ".rs",
   "mimetype": "text/rust",
   "name": "Rust",
   "pygment_lexer": "rust",
   "version": ""
  }
 },
 "nbformat": 4,
 "nbformat_minor": 5
}
