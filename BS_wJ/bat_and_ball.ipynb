{
 "cells": [
  {
   "cell_type": "markdown",
   "id": "55f0169c",
   "metadata": {},
   "source": [
    "# Task description\n",
    "\n",
    "write solution for bat and ball problem\n",
    "\n",
    "[details](https://b-lukaszuk.github.io/BS_wJ_eng/bat_and_ball.html)"
   ]
  },
  {
   "cell_type": "markdown",
   "id": "4d3efe06",
   "metadata": {},
   "source": [
    "**Crude solution**, no assumption checking, no error handling, etc."
   ]
  },
  {
   "cell_type": "markdown",
   "id": "40e9edf0",
   "metadata": {},
   "source": [
    "## Functions"
   ]
  },
  {
   "cell_type": "code",
   "execution_count": 2,
   "id": "82daa5e2",
   "metadata": {},
   "outputs": [],
   "source": [
    "fn get_n_rows(matrix: &Vec<Vec<f64>>) -> usize {\n",
    "    matrix.len()\n",
    "}\n",
    "\n",
    "fn get_n_cols(matrix: &Vec<Vec<f64>>) -> usize {\n",
    "    matrix[0].len()\n",
    "}"
   ]
  },
  {
   "cell_type": "code",
   "execution_count": 3,
   "id": "3f3b89f3",
   "metadata": {},
   "outputs": [],
   "source": [
    "fn get_col(matrix: &Vec<Vec<f64>>, col_ind: usize) -> Vec<f64> {\n",
    "    let n_rows: usize = get_n_rows(matrix);\n",
    "    let mut col: Vec<f64> = vec![];\n",
    "    for i in 0..n_rows {\n",
    "        col.push(matrix[i][col_ind]);\n",
    "    }\n",
    "    col\n",
    "}"
   ]
  },
  {
   "cell_type": "code",
   "execution_count": 4,
   "id": "5ec6db4f",
   "metadata": {},
   "outputs": [],
   "source": [
    "fn get_dot_prod(row: &Vec<f64>, col: &Vec<f64>) -> Vec<f64> {\n",
    "    let mut result: Vec<f64> = vec![];\n",
    "    for i in 0..row.len() {\n",
    "        result.push(row[i] * col[i])\n",
    "    }\n",
    "    result\n",
    "}"
   ]
  },
  {
   "cell_type": "code",
   "execution_count": 5,
   "id": "ec269fbe",
   "metadata": {},
   "outputs": [],
   "source": [
    "fn mult(matrix1: &Vec<Vec<f64>>, matrix2: &Vec<Vec<f64>>) -> Vec<Vec<f64>> {\n",
    "    let mut result: Vec<Vec<f64>> = vec![];\n",
    "    for r in 0..get_n_rows(matrix1) {\n",
    "        result.push(vec![]);\n",
    "        for c in 0..get_n_cols(matrix2) {\n",
    "            result[r].push(get_dot_prod(&matrix1[r], &get_col(matrix2, c)).iter().sum());\n",
    "        }\n",
    "    }\n",
    "    result\n",
    "}"
   ]
  },
  {
   "cell_type": "code",
   "execution_count": 6,
   "id": "5b1af373",
   "metadata": {},
   "outputs": [],
   "source": [
    "fn my_print(matrix: &Vec<Vec<f64>>) {\n",
    "    for r in 0..matrix.len() {\n",
    "        for c in 0..get_n_cols(matrix) {\n",
    "            print!(\"{} \", matrix[r][c]);\n",
    "        }\n",
    "        println!(\"\");\n",
    "    }\n",
    "}"
   ]
  },
  {
   "cell_type": "code",
   "execution_count": 7,
   "id": "cae70dd6",
   "metadata": {},
   "outputs": [],
   "source": [
    "fn get_det2x2(matrix: &Vec<Vec<f64>>) -> f64 {\n",
    "    matrix[0][0] * matrix[1][1] - matrix[0][1] * matrix[1][0]\n",
    "}\n",
    "\n",
    "fn get_det2x2_reciprocal(matrix: &Vec<Vec<f64>>) -> f64 {\n",
    "    1.0 / get_det2x2(matrix)\n",
    "}"
   ]
  },
  {
   "cell_type": "code",
   "execution_count": 8,
   "id": "84bae481",
   "metadata": {},
   "outputs": [],
   "source": [
    "fn get_swap(matrix: &Vec<Vec<f64>>) -> Vec<Vec<f64>> {\n",
    "    let a: f64 = matrix[1][1];\n",
    "    let b: f64 = matrix[0][1] * -1.0;\n",
    "    let c: f64 = matrix[1][0] * -1.0;\n",
    "    let d: f64 = matrix[0][0];\n",
    "    vec![vec![a, b], vec![c, d]]\n",
    "}"
   ]
  },
  {
   "cell_type": "code",
   "execution_count": 9,
   "id": "bd60da07",
   "metadata": {},
   "outputs": [],
   "source": [
    "fn get_inv2x2(matrix: &Vec<Vec<f64>>) -> Vec<Vec<f64>> {\n",
    "    let det_rec: f64 = get_det2x2_reciprocal(matrix);\n",
    "    let swap: Vec<Vec<f64>> = get_swap(matrix);\n",
    "    let mut result: Vec<Vec<f64>> = vec![];\n",
    "    for r in 0..get_n_rows(&swap) {\n",
    "        result.push(vec![]);\n",
    "        for c in 0..get_n_cols(&swap) {\n",
    "            result[r].push(det_rec * swap[r][c]);\n",
    "        }\n",
    "    }\n",
    "    result\n",
    "}"
   ]
  },
  {
   "cell_type": "markdown",
   "id": "f1199774",
   "metadata": {},
   "source": [
    "## Solution"
   ]
  },
  {
   "cell_type": "markdown",
   "id": "7b3bb453",
   "metadata": {},
   "source": [
    "$bat + ball = 1.1$<br>\n",
    "$bat - ball = 1$<br>\n",
    "$bat = ?$<br>\n",
    "$ball = ?$<br>"
   ]
  },
  {
   "cell_type": "code",
   "execution_count": 10,
   "id": "33fb98df",
   "metadata": {},
   "outputs": [],
   "source": [
    "// 1 bat + 1 ball\n",
    "// 1 bat - 1 ball\n",
    "let a: Vec<Vec<f64>> = vec![vec![1.0, 1.0], vec![1.0, -1.0]];\n",
    "// prices 1.1, 1.0\n",
    "let b: Vec<Vec<f64>> = vec![vec![1.1], vec![1.0]];"
   ]
  },
  {
   "cell_type": "code",
   "execution_count": 11,
   "id": "8d8016d8",
   "metadata": {},
   "outputs": [
    {
     "name": "stdout",
     "output_type": "stream",
     "text": [
      "1.05 \n",
      "0.050000000000000044 \n"
     ]
    }
   ],
   "source": [
    "my_print(&mult(&get_inv2x2(&a), &b));"
   ]
  },
  {
   "cell_type": "markdown",
   "id": "f6801317",
   "metadata": {},
   "source": [
    "$bat = 1$<br>\n",
    "$ball = 0.05$<br>\n",
    "so 1 dollar and 5 cents"
   ]
  }
 ],
 "metadata": {
  "kernelspec": {
   "display_name": "Rust",
   "language": "rust",
   "name": "rust"
  },
  "language_info": {
   "codemirror_mode": "rust",
   "file_extension": ".rs",
   "mimetype": "text/rust",
   "name": "Rust",
   "pygment_lexer": "rust",
   "version": ""
  }
 },
 "nbformat": 4,
 "nbformat_minor": 5
}
