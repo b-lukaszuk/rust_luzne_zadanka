{
 "cells": [
  {
   "cell_type": "markdown",
   "id": "55f0169c",
   "metadata": {},
   "source": [
    "# Task description\n",
    "\n",
    "write solution for prime numbers problem\n",
    "\n",
    "[details](https://b-lukaszuk.github.io/BS_wJ_eng/prime_numbers.html)"
   ]
  },
  {
   "cell_type": "markdown",
   "id": "4d3efe06",
   "metadata": {},
   "source": [
    "**Crude solution**, no assumption checking, no error handling, etc."
   ]
  },
  {
   "cell_type": "markdown",
   "id": "40e9edf0",
   "metadata": {},
   "source": [
    "## Functions"
   ]
  },
  {
   "cell_type": "markdown",
   "id": "9faa6c5f-2704-4f01-84b6-3230763ec350",
   "metadata": {},
   "source": [
    "### Trial division"
   ]
  },
  {
   "cell_type": "code",
   "execution_count": 2,
   "id": "07bcf887-8b89-452b-88f0-e32dbe76d417",
   "metadata": {},
   "outputs": [],
   "source": [
    "fn is_prime(n: u32) -> bool {\n",
    "    match n {\n",
    "        0 | 1 => return false,\n",
    "        2 | 3 => return true,\n",
    "        _ => {\n",
    "            let up_to: u32 = (n as f64).sqrt().ceil() as u32;\n",
    "            for i in 2..=up_to {\n",
    "                if n % i == 0 {\n",
    "                    return false;\n",
    "                }\n",
    "            }\n",
    "            return true;\n",
    "        }\n",
    "    }\n",
    "}"
   ]
  },
  {
   "cell_type": "code",
   "execution_count": 3,
   "id": "82daa5e2",
   "metadata": {},
   "outputs": [],
   "source": [
    "fn get_primes_v1(up_to: u32) -> Vec<u32> {\n",
    "    if up_to < 2 {\n",
    "        return vec![];\n",
    "    } else {\n",
    "        return (2..=up_to).filter(|n| is_prime(*n)).collect();\n",
    "    }\n",
    "}"
   ]
  },
  {
   "cell_type": "markdown",
   "id": "f1199774",
   "metadata": {},
   "source": [
    "### Trial division test"
   ]
  },
  {
   "cell_type": "code",
   "execution_count": 4,
   "id": "b96f3a47-9af6-4d7b-9f34-893e34ac7a78",
   "metadata": {},
   "outputs": [
    {
     "data": {
      "text/plain": [
       "[2, 3, 5, 7, 11, 13, 17, 19, 23, 29, 31, 37, 41, 43, 47, 53, 59, 61, 67, 71, 73, 79, 83, 89, 97]"
      ]
     },
     "execution_count": 4,
     "metadata": {},
     "output_type": "execute_result"
    }
   ],
   "source": [
    "get_primes_v1(100)"
   ]
  },
  {
   "cell_type": "markdown",
   "id": "1b42b0a2-9d0f-430e-8105-e3c3ee2931f7",
   "metadata": {},
   "source": [
    "### Sieve of Eratosthenes"
   ]
  },
  {
   "cell_type": "code",
   "execution_count": 5,
   "id": "bed45d9e-ba27-4522-9ee0-be6d9c764699",
   "metadata": {},
   "outputs": [],
   "source": [
    "fn get_primes_v2(up_to: u32) -> Vec<u32> {\n",
    "    let mut is_prime: Vec<bool> = vec![true; up_to as usize];\n",
    "    let mut result: Vec<u32> = vec![];\n",
    "    is_prime[0] = false; // first prime is 2\n",
    "    for num in 1..=up_to {\n",
    "        // mark multiples of a prime (num) as not prime\n",
    "        if is_prime[num as usize - 1] {\n",
    "            for i in ((num * 2)..=up_to).step_by(num as usize) {\n",
    "                is_prime[i as usize - 1] = false;\n",
    "            }\n",
    "        }\n",
    "    }\n",
    "    for i in 1..=is_prime.len() {\n",
    "        if is_prime[i - 1] {\n",
    "            result.push(i as u32);\n",
    "        }\n",
    "    }\n",
    "    result\n",
    "}"
   ]
  },
  {
   "cell_type": "markdown",
   "id": "a7b31e4b-c202-4c96-b450-f166a7608183",
   "metadata": {},
   "source": [
    "### Sieve of Eratosthenes test"
   ]
  },
  {
   "cell_type": "code",
   "execution_count": 6,
   "id": "914de7f4-1c60-4605-bcfe-a6f19b747175",
   "metadata": {},
   "outputs": [
    {
     "data": {
      "text/plain": [
       "[2, 3, 5, 7, 11, 13, 17, 19, 23, 29, 31, 37, 41, 43, 47, 53, 59, 61, 67, 71, 73, 79, 83, 89, 97]"
      ]
     },
     "execution_count": 6,
     "metadata": {},
     "output_type": "execute_result"
    }
   ],
   "source": [
    "get_primes_v2(100)"
   ]
  }
 ],
 "metadata": {
  "kernelspec": {
   "display_name": "Rust",
   "language": "rust",
   "name": "rust"
  },
  "language_info": {
   "codemirror_mode": "rust",
   "file_extension": ".rs",
   "mimetype": "text/rust",
   "name": "Rust",
   "pygment_lexer": "rust",
   "version": ""
  }
 },
 "nbformat": 4,
 "nbformat_minor": 5
}
