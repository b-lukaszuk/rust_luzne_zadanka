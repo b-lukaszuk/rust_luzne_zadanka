{
 "cells": [
  {
   "cell_type": "markdown",
   "id": "e5d1f333-feca-4d79-8fe1-8d824832ed64",
   "metadata": {},
   "source": [
    "# The Slice Type\n",
    "\n",
    "*Slices* let you reference a contiguous sequence of elements in a collection rather than the whole collection. A slice is a kind of reference, so it does not have ownership.\n",
    "\n",
    "[...] write a function that takes a string of words separated by spaces and returns the first word it finds in that string. If the function doesn’t find a space in the string, the whole string must be one word, so the entire string should be returned."
   ]
  },
  {
   "cell_type": "code",
   "execution_count": null,
   "id": "f089ec3c-086c-4b27-a400-0380162e8d5e",
   "metadata": {},
   "outputs": [],
   "source": [
    "fn first_word1(s: &String) -> usize {\n",
    "    let bytes = s.as_bytes();\n",
    "\n",
    "    for (i, &item) in bytes.iter().enumerate() {\n",
    "        if item == b' ' {\n",
    "            return i;\n",
    "        }\n",
    "    }\n",
    "\n",
    "    s.len()\n",
    "}"
   ]
  },
  {
   "cell_type": "code",
   "execution_count": null,
   "id": "b8277f77-c591-41ff-b034-6fb19d187cf1",
   "metadata": {},
   "outputs": [],
   "source": [
    "fn mn1() {\n",
    "    let mut s = String::from(\"hello world\");\n",
    "\n",
    "    let word = first_word1(&s); // word will get the value 5\n",
    "\n",
    "    println!(\"s: {}, word: {}, \", s, word);\n",
    "    s.clear(); // this empties the String, making it equal to \"\"\n",
    "    println!(\"s: {}, word: {}, \", s, word);\n",
    "\n",
    "    // word still has the alue 5 here, but there's no more string that\n",
    "    // we could meaningfully use the value 5 with, word is now totally invalid!\n",
    "}"
   ]
  },
  {
   "cell_type": "code",
   "execution_count": null,
   "id": "31bc5239-a830-498e-8489-e25ffd5fd645",
   "metadata": {},
   "outputs": [],
   "source": [
    "mn1()"
   ]
  },
  {
   "cell_type": "markdown",
   "id": "3b474111-929f-446a-80b2-b15360217fc9",
   "metadata": {},
   "source": [
    "---"
   ]
  },
  {
   "cell_type": "code",
   "execution_count": null,
   "id": "b216403d-f797-4f58-b35d-c3808129cbec",
   "metadata": {},
   "outputs": [],
   "source": [
    "fn mn2() {\n",
    "    let s = String::from(\"hello world\");\n",
    "\n",
    "    let hello = &s[0..5]; // or &s[..5]\n",
    "    let world = &s[6..11]; // or &s[6..]\n",
    "    let whole_sentence = &s[..];\n",
    "\n",
    "    println!(\"'{}', '{}', '{}'\", hello, world, whole_sentence);\n",
    "}"
   ]
  },
  {
   "cell_type": "code",
   "execution_count": null,
   "id": "48bb9b4e-e504-403e-9e29-997ec7098a0f",
   "metadata": {},
   "outputs": [],
   "source": [
    "mn2()"
   ]
  },
  {
   "cell_type": "markdown",
   "id": "bddee068-ae05-4cde-976c-94e65ec9af95",
   "metadata": {},
   "source": [
    "---"
   ]
  },
  {
   "cell_type": "code",
   "execution_count": null,
   "id": "9fec3ec7-2977-4a6c-924a-b9e3333bb8ab",
   "metadata": {},
   "outputs": [],
   "source": [
    "fn first_word3(s: &String) -> &str {\n",
    "    let bytes = s.as_bytes();\n",
    "\n",
    "    for (i, &item) in bytes.iter().enumerate() {\n",
    "        if item == b' ' {\n",
    "            return &s[0..i];\n",
    "        }\n",
    "    }\n",
    "    &s[..]\n",
    "}"
   ]
  },
  {
   "cell_type": "code",
   "execution_count": null,
   "id": "a51b48af-35f7-422b-ac7a-b7ed1d071767",
   "metadata": {},
   "outputs": [],
   "source": [
    "fn mn3() {\n",
    "    let mut s = String::from(\"hello world\");\n",
    "    let word = first_word3(&s);\n",
    "    // s.clear(); // error!\n",
    "    println!(\"the first word is: {}\", word);\n",
    "}"
   ]
  },
  {
   "cell_type": "code",
   "execution_count": null,
   "id": "a59af15f-a41c-4ab8-a2dc-8eca43cfd75b",
   "metadata": {},
   "outputs": [],
   "source": [
    "mn3()"
   ]
  },
  {
   "cell_type": "markdown",
   "id": "95d8d4d4-9596-4f5e-a30c-7437d5b48ff5",
   "metadata": {},
   "source": [
    "---"
   ]
  },
  {
   "cell_type": "markdown",
   "id": "52788bf4-d523-4f51-804a-bdb04ed4253a",
   "metadata": {},
   "source": [
    "## String Literals as Slices\n",
    "\n",
    "`let s = \"Hello, world!\";`\n",
    "\n",
    "The type `s` here is `&str`: it's a slice pointing to that specific point of the binary. This is also why string literals are immutable; `&str` is an immutable reference."
   ]
  },
  {
   "cell_type": "markdown",
   "id": "7a06dc65-d5f8-4c08-a938-08d3dac4301f",
   "metadata": {},
   "source": [
    "## String Slices as Parameters\n",
    "\n",
    "You can either write:\n",
    "\n",
    "`fn first_word(s: &String) -> &str {`\n",
    "\n",
    "or\n",
    "\n",
    "`fn first_word(s: &str) -> &str {`\n",
    "\n",
    "The latter alows you to use `first_word` with both `&String` and `&str` value."
   ]
  },
  {
   "cell_type": "code",
   "execution_count": null,
   "id": "cf103856-0749-46ac-9f23-cb0c93c95dff",
   "metadata": {},
   "outputs": [],
   "source": [
    "fn first_word4(s: &str) -> &str {\n",
    "    let bytes = s.as_bytes();\n",
    "\n",
    "    for (i, &item) in bytes.iter().enumerate() {\n",
    "        if item == b' ' {\n",
    "            return &s[0..i];\n",
    "        }\n",
    "    }\n",
    "    &s[..]\n",
    "}"
   ]
  },
  {
   "cell_type": "code",
   "execution_count": null,
   "id": "d8e5f12d-a358-4787-9399-7154fda0ec40",
   "metadata": {},
   "outputs": [],
   "source": [
    "fn mn4() {\n",
    "    let my_string = String::from(\"hello world\");\n",
    "\n",
    "    // `first_word4` works on slices of `String`s, whether partial or whole\n",
    "    let word = first_word4(&my_string[0..6]);\n",
    "    println!(\"{}\", word);\n",
    "    let word = first_word4(&my_string[..]);\n",
    "    println!(\"{}\", word);\n",
    "    // `first_word4` also works on references to `String`s, which are equivalent\n",
    "    // to whole slices of `String`s\n",
    "    let word = first_word4(&my_string);\n",
    "    println!(\"{}\", word);\n",
    "\n",
    "    let my_string_literal = \"hello world\";\n",
    "\n",
    "    // `first_word4` works on slices of string literals, whether partial or whole\n",
    "    let word = first_word4(&my_string_literal[0..6]);\n",
    "    println!(\"{}\", word);\n",
    "    let word = first_word4(&my_string_literal[..]);\n",
    "    println!(\"{}\", word);\n",
    "\n",
    "    // Because string literals *are* string slices already,\n",
    "    // this works too, without the slice syntax!\n",
    "    let word = first_word4(my_string_literal);\n",
    "    println!(\"{}\", word);\n",
    "}"
   ]
  },
  {
   "cell_type": "code",
   "execution_count": null,
   "id": "c326b75b-817e-4669-821b-26e0c7ce1b48",
   "metadata": {},
   "outputs": [],
   "source": [
    "mn4()"
   ]
  },
  {
   "cell_type": "markdown",
   "id": "e5da1005-bb11-453b-8640-4d61bca4c56e",
   "metadata": {},
   "source": [
    "## Other Slices\n",
    "\n",
    "Just as we might want to refer to part of a string, we might want to refer to part of an array.\n",
    "\n",
    "```\n",
    "let a = [1, 2, 3, 4, 5];\n",
    "\n",
    "let slice = &a[1..3];\n",
    "\n",
    "assert_eq!(slice, &[2, 3]);\n",
    "```\n",
    "\n",
    "This slice has the type `&[i32]`. It works the same way as string slices do, by storing a reference to the first element and a length."
   ]
  }
 ],
 "metadata": {
  "kernelspec": {
   "display_name": "Rust",
   "language": "rust",
   "name": "rust"
  },
  "language_info": {
   "codemirror_mode": "rust",
   "file_extension": ".rs",
   "mimetype": "text/rust",
   "name": "Rust",
   "pygment_lexer": "rust",
   "version": ""
  }
 },
 "nbformat": 4,
 "nbformat_minor": 5
}
